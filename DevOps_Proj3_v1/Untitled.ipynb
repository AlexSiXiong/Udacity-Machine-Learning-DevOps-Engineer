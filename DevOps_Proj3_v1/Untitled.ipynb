{
 "cells": [
  {
   "cell_type": "code",
   "execution_count": 6,
   "id": "78654445",
   "metadata": {},
   "outputs": [],
   "source": [
    "import os\n",
    "\n",
    "\n",
    "def data_folder_path(subfolder, file):\n",
    "    \"\"\"[summary]\n",
    "    Args:\n",
    "        subfolder ([str]): [subfolder name]\n",
    "        file ([str]): [file name]\n",
    "    Returns:\n",
    "        [str]: [file complete path]\n",
    "    \"\"\"\n",
    "    root = os.path.dirname(os.getcwd())\n",
    "    return os.path.join(root, \"Uda_MLOps_Project_3\", subfolder, file)"
   ]
  },
  {
   "cell_type": "code",
   "execution_count": 7,
   "id": "25178d65",
   "metadata": {},
   "outputs": [
    {
     "data": {
      "text/plain": [
       "'/home/ubuntu/Udacity-Machine-Learning-DevOps-Engineer/Udacity-Machine-Learning-DevOps-Engineer/DevOps_Proj3_v1/model/best_clf.pkl'"
      ]
     },
     "execution_count": 7,
     "metadata": {},
     "output_type": "execute_result"
    }
   ],
   "source": [
    "data_folder_path('model','best_clf.pkl')"
   ]
  },
  {
   "cell_type": "code",
   "execution_count": null,
   "id": "a8fb637f",
   "metadata": {},
   "outputs": [],
   "source": []
  }
 ],
 "metadata": {
  "kernelspec": {
   "display_name": "Python 3 (ipykernel)",
   "language": "python",
   "name": "python3"
  },
  "language_info": {
   "codemirror_mode": {
    "name": "ipython",
    "version": 3
   },
   "file_extension": ".py",
   "mimetype": "text/x-python",
   "name": "python",
   "nbconvert_exporter": "python",
   "pygments_lexer": "ipython3",
   "version": "3.8.13"
  }
 },
 "nbformat": 4,
 "nbformat_minor": 5
}
