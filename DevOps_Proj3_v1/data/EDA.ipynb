{
 "cells": [
  {
   "cell_type": "code",
   "execution_count": 24,
   "id": "a2d3fdc6",
   "metadata": {},
   "outputs": [],
   "source": [
    "import joblib\n",
    "\n",
    "import numpy as np\n",
    "import pandas as pd\n",
    "\n",
    "import lightgbm as lgb\n",
    "from sklearn import preprocessing\n",
    "from sklearn.metrics import accuracy_score\n",
    "from sklearn.metrics import roc_auc_score"
   ]
  },
  {
   "cell_type": "code",
   "execution_count": 25,
   "id": "7909b2d4",
   "metadata": {},
   "outputs": [],
   "source": [
    "df = pd.read_csv('./census_cleaned.csv')"
   ]
  },
  {
   "cell_type": "code",
   "execution_count": 26,
   "id": "6c1493ba",
   "metadata": {},
   "outputs": [
    {
     "data": {
      "text/html": [
       "<div>\n",
       "<style scoped>\n",
       "    .dataframe tbody tr th:only-of-type {\n",
       "        vertical-align: middle;\n",
       "    }\n",
       "\n",
       "    .dataframe tbody tr th {\n",
       "        vertical-align: top;\n",
       "    }\n",
       "\n",
       "    .dataframe thead th {\n",
       "        text-align: right;\n",
       "    }\n",
       "</style>\n",
       "<table border=\"1\" class=\"dataframe\">\n",
       "  <thead>\n",
       "    <tr style=\"text-align: right;\">\n",
       "      <th></th>\n",
       "      <th>age</th>\n",
       "      <th>workclass</th>\n",
       "      <th>marital-status</th>\n",
       "      <th>occupation</th>\n",
       "      <th>race</th>\n",
       "      <th>sex</th>\n",
       "      <th>hours-per-week</th>\n",
       "      <th>salary</th>\n",
       "    </tr>\n",
       "  </thead>\n",
       "  <tbody>\n",
       "    <tr>\n",
       "      <th>0</th>\n",
       "      <td>39</td>\n",
       "      <td>State-gov</td>\n",
       "      <td>Never-married</td>\n",
       "      <td>Adm-clerical</td>\n",
       "      <td>White</td>\n",
       "      <td>Male</td>\n",
       "      <td>40</td>\n",
       "      <td>&lt;=50K</td>\n",
       "    </tr>\n",
       "    <tr>\n",
       "      <th>1</th>\n",
       "      <td>50</td>\n",
       "      <td>Self-emp-not-inc</td>\n",
       "      <td>Married-civ-spouse</td>\n",
       "      <td>Exec-managerial</td>\n",
       "      <td>White</td>\n",
       "      <td>Male</td>\n",
       "      <td>13</td>\n",
       "      <td>&lt;=50K</td>\n",
       "    </tr>\n",
       "    <tr>\n",
       "      <th>2</th>\n",
       "      <td>38</td>\n",
       "      <td>Private</td>\n",
       "      <td>Divorced</td>\n",
       "      <td>Handlers-cleaners</td>\n",
       "      <td>White</td>\n",
       "      <td>Male</td>\n",
       "      <td>40</td>\n",
       "      <td>&lt;=50K</td>\n",
       "    </tr>\n",
       "    <tr>\n",
       "      <th>3</th>\n",
       "      <td>53</td>\n",
       "      <td>Private</td>\n",
       "      <td>Married-civ-spouse</td>\n",
       "      <td>Handlers-cleaners</td>\n",
       "      <td>Black</td>\n",
       "      <td>Male</td>\n",
       "      <td>40</td>\n",
       "      <td>&lt;=50K</td>\n",
       "    </tr>\n",
       "    <tr>\n",
       "      <th>4</th>\n",
       "      <td>28</td>\n",
       "      <td>Private</td>\n",
       "      <td>Married-civ-spouse</td>\n",
       "      <td>Prof-specialty</td>\n",
       "      <td>Black</td>\n",
       "      <td>Female</td>\n",
       "      <td>40</td>\n",
       "      <td>&lt;=50K</td>\n",
       "    </tr>\n",
       "    <tr>\n",
       "      <th>...</th>\n",
       "      <td>...</td>\n",
       "      <td>...</td>\n",
       "      <td>...</td>\n",
       "      <td>...</td>\n",
       "      <td>...</td>\n",
       "      <td>...</td>\n",
       "      <td>...</td>\n",
       "      <td>...</td>\n",
       "    </tr>\n",
       "    <tr>\n",
       "      <th>20307</th>\n",
       "      <td>32</td>\n",
       "      <td>Private</td>\n",
       "      <td>Never-married</td>\n",
       "      <td>Tech-support</td>\n",
       "      <td>Asian-Pac-Islander</td>\n",
       "      <td>Male</td>\n",
       "      <td>11</td>\n",
       "      <td>&lt;=50K</td>\n",
       "    </tr>\n",
       "    <tr>\n",
       "      <th>20308</th>\n",
       "      <td>22</td>\n",
       "      <td>Private</td>\n",
       "      <td>Never-married</td>\n",
       "      <td>Protective-serv</td>\n",
       "      <td>White</td>\n",
       "      <td>Male</td>\n",
       "      <td>40</td>\n",
       "      <td>&lt;=50K</td>\n",
       "    </tr>\n",
       "    <tr>\n",
       "      <th>20309</th>\n",
       "      <td>27</td>\n",
       "      <td>Private</td>\n",
       "      <td>Married-civ-spouse</td>\n",
       "      <td>Tech-support</td>\n",
       "      <td>White</td>\n",
       "      <td>Female</td>\n",
       "      <td>38</td>\n",
       "      <td>&lt;=50K</td>\n",
       "    </tr>\n",
       "    <tr>\n",
       "      <th>20310</th>\n",
       "      <td>58</td>\n",
       "      <td>Private</td>\n",
       "      <td>Widowed</td>\n",
       "      <td>Adm-clerical</td>\n",
       "      <td>White</td>\n",
       "      <td>Female</td>\n",
       "      <td>40</td>\n",
       "      <td>&lt;=50K</td>\n",
       "    </tr>\n",
       "    <tr>\n",
       "      <th>20311</th>\n",
       "      <td>52</td>\n",
       "      <td>Self-emp-inc</td>\n",
       "      <td>Married-civ-spouse</td>\n",
       "      <td>Exec-managerial</td>\n",
       "      <td>White</td>\n",
       "      <td>Female</td>\n",
       "      <td>40</td>\n",
       "      <td>&gt;50K</td>\n",
       "    </tr>\n",
       "  </tbody>\n",
       "</table>\n",
       "<p>20312 rows × 8 columns</p>\n",
       "</div>"
      ],
      "text/plain": [
       "       age         workclass      marital-status         occupation  \\\n",
       "0       39         State-gov       Never-married       Adm-clerical   \n",
       "1       50  Self-emp-not-inc  Married-civ-spouse    Exec-managerial   \n",
       "2       38           Private            Divorced  Handlers-cleaners   \n",
       "3       53           Private  Married-civ-spouse  Handlers-cleaners   \n",
       "4       28           Private  Married-civ-spouse     Prof-specialty   \n",
       "...    ...               ...                 ...                ...   \n",
       "20307   32           Private       Never-married       Tech-support   \n",
       "20308   22           Private       Never-married    Protective-serv   \n",
       "20309   27           Private  Married-civ-spouse       Tech-support   \n",
       "20310   58           Private             Widowed       Adm-clerical   \n",
       "20311   52      Self-emp-inc  Married-civ-spouse    Exec-managerial   \n",
       "\n",
       "                     race     sex  hours-per-week salary  \n",
       "0                   White    Male              40  <=50K  \n",
       "1                   White    Male              13  <=50K  \n",
       "2                   White    Male              40  <=50K  \n",
       "3                   Black    Male              40  <=50K  \n",
       "4                   Black  Female              40  <=50K  \n",
       "...                   ...     ...             ...    ...  \n",
       "20307  Asian-Pac-Islander    Male              11  <=50K  \n",
       "20308               White    Male              40  <=50K  \n",
       "20309               White  Female              38  <=50K  \n",
       "20310               White  Female              40  <=50K  \n",
       "20311               White  Female              40   >50K  \n",
       "\n",
       "[20312 rows x 8 columns]"
      ]
     },
     "execution_count": 26,
     "metadata": {},
     "output_type": "execute_result"
    }
   ],
   "source": [
    "df"
   ]
  },
  {
   "cell_type": "code",
   "execution_count": 5,
   "id": "0f4970a7",
   "metadata": {},
   "outputs": [],
   "source": [
    "def get_age_group(age):\n",
    "    if age < 18:\n",
    "        return 'underage'\n",
    "    elif (age >= 18) & (age < 60):\n",
    "        return 'adult'\n",
    "    else:\n",
    "        return 'elder'\n",
    "\n",
    "def get_salary_group(salary):\n",
    "    if salary == '<=50K':\n",
    "        return 1\n",
    "    return 0\n"
   ]
  },
  {
   "cell_type": "code",
   "execution_count": 6,
   "id": "5eb4cec2",
   "metadata": {},
   "outputs": [],
   "source": [
    "df['age'] = df['age'].apply(get_age_group)\n",
    "df['salary'] = df['salary'].apply(get_salary_group)"
   ]
  },
  {
   "cell_type": "code",
   "execution_count": 7,
   "id": "3a82cfd7",
   "metadata": {},
   "outputs": [],
   "source": [
    "def encoder_label(df, attribute):\n",
    "    le = preprocessing.LabelEncoder()\n",
    "    le.fit(list(set(df[attribute])))\n",
    "    df[attribute] = le.transform(df[attribute])\n",
    "    np.save(f'./encode_labels/{attribute}.npy', le.classes_)"
   ]
  },
  {
   "cell_type": "code",
   "execution_count": 8,
   "id": "dd40249c",
   "metadata": {},
   "outputs": [],
   "source": [
    "encoder_label(df,'age')\n",
    "encoder_label(df,'sex')\n",
    "encoder_label(df,'race')\n",
    "encoder_label(df,'occupation')\n",
    "encoder_label(df,'workclass')\n",
    "encoder_label(df,'marital-status')"
   ]
  },
  {
   "cell_type": "code",
   "execution_count": 9,
   "id": "ebf70903",
   "metadata": {},
   "outputs": [],
   "source": [
    "df.to_csv('./census_eda.csv')"
   ]
  },
  {
   "cell_type": "code",
   "execution_count": 10,
   "id": "4bea3f13",
   "metadata": {},
   "outputs": [
    {
     "data": {
      "image/png": "[encoded data removed]",
      "text/plain": [
       "<Figure size 720x720 with 2 Axes>"
      ]
     },
     "metadata": {
      "needs_background": "light"
     },
     "output_type": "display_data"
    }
   ],
   "source": [
    "import seaborn as sns\n",
    "import matplotlib.pyplot as plt\n",
    "\n",
    "f,ax = plt.subplots(figsize=(10, 10))\n",
    "heatmap = sns.heatmap(df[['age','workclass','marital-status','occupation','relationship','race','sex',\n",
    "                         'hours-per-week','salary']].corr(), annot=True, linewidths=.5, fmt= '.1f',ax=ax)\n",
    "\n",
    "figure = heatmap.get_figure()    \n",
    "# figure.savefig('heatmap.png', dpi=400)"
   ]
  },
  {
   "cell_type": "code",
   "execution_count": null,
   "id": "d0ca8932",
   "metadata": {},
   "outputs": [],
   "source": []
  },
  {
   "cell_type": "code",
   "execution_count": null,
   "id": "ea648db6",
   "metadata": {},
   "outputs": [],
   "source": []
  },
  {
   "cell_type": "code",
   "execution_count": null,
   "id": "382900ae",
   "metadata": {},
   "outputs": [],
   "source": []
  },
  {
   "cell_type": "code",
   "execution_count": null,
   "id": "054213c4",
   "metadata": {},
   "outputs": [],
   "source": []
  },
  {
   "cell_type": "markdown",
   "id": "3d4bbb2e",
   "metadata": {},
   "source": [
    "# Below are model training script"
   ]
  },
  {
   "cell_type": "code",
   "execution_count": 11,
   "id": "5b2b9a12",
   "metadata": {},
   "outputs": [],
   "source": [
    "from sklearn.model_selection import KFold"
   ]
  },
  {
   "cell_type": "code",
   "execution_count": 12,
   "id": "d2536b8e",
   "metadata": {},
   "outputs": [],
   "source": [
    "folds = 5"
   ]
  },
  {
   "cell_type": "code",
   "execution_count": 13,
   "id": "10957729",
   "metadata": {},
   "outputs": [],
   "source": [
    "kf = KFold(n_splits=folds, random_state=42, shuffle=True)"
   ]
  },
  {
   "cell_type": "code",
   "execution_count": 14,
   "id": "d09584ba",
   "metadata": {},
   "outputs": [],
   "source": [
    "df = df[['age','workclass','marital-status','occupation','race','sex', 'hours-per-week','salary']]"
   ]
  },
  {
   "cell_type": "code",
   "execution_count": 15,
   "id": "62dce96e",
   "metadata": {},
   "outputs": [],
   "source": [
    "y = df['salary'].values\n",
    "X = df.drop('salary', axis=1).values"
   ]
  },
  {
   "cell_type": "code",
   "execution_count": 16,
   "id": "347250cb",
   "metadata": {},
   "outputs": [],
   "source": [
    "from sklearn.model_selection import train_test_split\n",
    "X, X_testset, y, y_testset = train_test_split(X, y, test_size = 0.2, shuffle=True)"
   ]
  },
  {
   "cell_type": "code",
   "execution_count": 24,
   "id": "90eff75f",
   "metadata": {},
   "outputs": [
    {
     "name": "stdout",
     "output_type": "stream",
     "text": [
      "--------------------------------------------------------------\n",
      "Training set score: 0.7867\n",
      "Test set score: 0.7609\n",
      "ROC 0.76513915946023\n",
      "--------------------------------------------------------------\n",
      "Training set score: 0.7773\n",
      "Test set score: 0.7602\n",
      "ROC 0.7746650678523495\n",
      "--------------------------------------------------------------\n",
      "Training set score: 0.7781\n",
      "Test set score: 0.7645\n",
      "ROC 0.7852856503411831\n",
      "--------------------------------------------------------------\n",
      "Training set score: 0.7787\n",
      "Test set score: 0.7637\n",
      "ROC 0.7796462191260715\n",
      "--------------------------------------------------------------\n",
      "Training set score: 0.7829\n",
      "Test set score: 0.7597\n",
      "ROC 0.7701280945378118\n"
     ]
    },
    {
     "data": {
      "text/plain": [
       "['best_clf.pkl']"
      ]
     },
     "execution_count": 24,
     "metadata": {},
     "output_type": "execute_result"
    }
   ],
   "source": [
    "model_arr = []\n",
    "roc_arr = []\n",
    "\n",
    "for train_index, test_index in kf.split(X):\n",
    "    \n",
    "    X_train, X_test = X[train_index], X[test_index]\n",
    "    y_train, y_test = y[train_index], y[test_index]\n",
    "    \n",
    "    clf = lgb.LGBMClassifier(objective='binary',\n",
    "                             random_state=42,\n",
    "                             metric='binary_logloss',\n",
    "                             scale_pos_weight=0.34)\n",
    "    \n",
    "\n",
    "    \n",
    "    clf.fit(X_train, y_train)\n",
    "    roc_ = roc_auc_score(y_test, clf.predict(X_test))\n",
    "    model_arr.append(clf)\n",
    "    roc_arr.append(roc_)\n",
    "    print('--------------------------------------------------------------')\n",
    "    print('Training set score: {:.4f}'.format(clf.score(X_train, y_train)))\n",
    "    print('Test set score: {:.4f}'.format(clf.score(X_test, y_test)))\n",
    "    print('ROC', roc_)\n",
    "    \n",
    "    \n",
    "max_index = np.argmax(np.array(roc_arr))\n",
    "best_clf = model_arr[max_index]\n",
    "\n",
    "\n",
    "# save model\n",
    "joblib.dump(best_clf, 'best_clf.pkl')\n",
    "# load model\n",
    "# gbm_pickle = joblib.load('clf_opt.pkl')"
   ]
  },
  {
   "cell_type": "code",
   "execution_count": null,
   "id": "ae1a56a0",
   "metadata": {},
   "outputs": [],
   "source": [
    "y_pred=clf.predict(X_testset)"
   ]
  },
  {
   "cell_type": "code",
   "execution_count": null,
   "id": "fddcc005",
   "metadata": {},
   "outputs": [],
   "source": [
    "# view accuracy\n",
    "\n",
    "accuracy=accuracy_score(y_pred, y_testset)\n",
    "print('LightGBM Model accuracy score: {0:0.4f}'.format(accuracy_score(y_testset, y_pred)))"
   ]
  },
  {
   "cell_type": "code",
   "execution_count": null,
   "id": "c0ba3f3b",
   "metadata": {},
   "outputs": [],
   "source": [
    "from sklearn.metrics import confusion_matrix\n",
    "cm = confusion_matrix(y_testset, y_pred)\n",
    "print('Confusion matrix\\n\\n', cm)\n",
    "print('\\nTrue Positives(TP) = ', cm[0,0])\n",
    "print('\\nTrue Negatives(TN) = ', cm[1,1])\n",
    "print('\\nFalse Positives(FP) = ', cm[0,1])\n",
    "print('\\nFalse Negatives(FN) = ', cm[1,0])"
   ]
  },
  {
   "cell_type": "code",
   "execution_count": null,
   "id": "bbcbfcda",
   "metadata": {},
   "outputs": [],
   "source": [
    "# visualize confusion matrix with seaborn heatmap\n",
    "\n",
    "cm_matrix = pd.DataFrame(data=cm, columns=['Actual Positive:1', 'Actual Negative:0'], \n",
    "                                 index=['Predict Positive:1', 'Predict Negative:0'])\n",
    "\n",
    "sns.heatmap(cm_matrix, annot=True, fmt='d', cmap='YlGnBu')"
   ]
  },
  {
   "cell_type": "code",
   "execution_count": null,
   "id": "0f0e39cc",
   "metadata": {},
   "outputs": [],
   "source": [
    "# visualize confusion matrix with seaborn heatmap\n",
    "\n",
    "cm_matrix = pd.DataFrame(data=cm, columns=['Actual Positive:1', 'Actual Negative:0'], \n",
    "                                 index=['Predict Positive:1', 'Predict Negative:0'])\n",
    "\n",
    "sns.heatmap(cm_matrix, annot=True, fmt='d', cmap='YlGnBu')"
   ]
  },
  {
   "cell_type": "code",
   "execution_count": null,
   "id": "b8104319",
   "metadata": {},
   "outputs": [],
   "source": [
    "from sklearn.metrics import roc_auc_score\n",
    "roc_ = roc_auc_score(y_testset, y_pred)\n",
    "print(roc_)"
   ]
  },
  {
   "cell_type": "code",
   "execution_count": 12,
   "id": "265e5909",
   "metadata": {},
   "outputs": [
    {
     "data": {
      "text/plain": [
       "array([3, 6, 9])"
      ]
     },
     "execution_count": 12,
     "metadata": {},
     "output_type": "execute_result"
    }
   ],
   "source": [
    "np.arange(1, 10).reshape(3,3)[:,-1]"
   ]
  },
  {
   "cell_type": "code",
   "execution_count": 13,
   "id": "e1ae8a43",
   "metadata": {},
   "outputs": [
    {
     "data": {
      "text/plain": [
       "array([[1, 2, 3],\n",
       "       [4, 5, 6],\n",
       "       [7, 8, 9]])"
      ]
     },
     "execution_count": 13,
     "metadata": {},
     "output_type": "execute_result"
    }
   ],
   "source": [
    "np.arange(1, 10).reshape(3,3)"
   ]
  },
  {
   "cell_type": "code",
   "execution_count": 14,
   "id": "7a77aad2",
   "metadata": {},
   "outputs": [],
   "source": [
    "\n",
    "\n",
    "from sklearn import preprocessing"
   ]
  },
  {
   "cell_type": "code",
   "execution_count": 28,
   "id": "614e9770",
   "metadata": {},
   "outputs": [],
   "source": [
    "def label_encoder(df, attribute, training):\n",
    "    le = preprocessing.LabelEncoder()\n",
    "    \n",
    "    if training:\n",
    "        le.fit(list(set(df[attribute])))        \n",
    "#         save_encoder_classes(f'./data/label_encoders/{attribute}.npy', attribute, le)\n",
    "    else:\n",
    "        le.classes_ = np.load(f'./label_encoders/{attribute}.npy')\n",
    "    df[attribute] = le.transform(df[attribute])"
   ]
  },
  {
   "cell_type": "code",
   "execution_count": 29,
   "id": "09ff2382",
   "metadata": {},
   "outputs": [],
   "source": [
    "label_encoder(df, 'race', False)"
   ]
  },
  {
   "cell_type": "code",
   "execution_count": 30,
   "id": "e387da15",
   "metadata": {},
   "outputs": [
    {
     "data": {
      "text/html": [
       "<div>\n",
       "<style scoped>\n",
       "    .dataframe tbody tr th:only-of-type {\n",
       "        vertical-align: middle;\n",
       "    }\n",
       "\n",
       "    .dataframe tbody tr th {\n",
       "        vertical-align: top;\n",
       "    }\n",
       "\n",
       "    .dataframe thead th {\n",
       "        text-align: right;\n",
       "    }\n",
       "</style>\n",
       "<table border=\"1\" class=\"dataframe\">\n",
       "  <thead>\n",
       "    <tr style=\"text-align: right;\">\n",
       "      <th></th>\n",
       "      <th>age</th>\n",
       "      <th>workclass</th>\n",
       "      <th>marital-status</th>\n",
       "      <th>occupation</th>\n",
       "      <th>race</th>\n",
       "      <th>sex</th>\n",
       "      <th>hours-per-week</th>\n",
       "      <th>salary</th>\n",
       "    </tr>\n",
       "  </thead>\n",
       "  <tbody>\n",
       "    <tr>\n",
       "      <th>0</th>\n",
       "      <td>39</td>\n",
       "      <td>State-gov</td>\n",
       "      <td>Never-married</td>\n",
       "      <td>Adm-clerical</td>\n",
       "      <td>4</td>\n",
       "      <td>Male</td>\n",
       "      <td>40</td>\n",
       "      <td>&lt;=50K</td>\n",
       "    </tr>\n",
       "    <tr>\n",
       "      <th>1</th>\n",
       "      <td>50</td>\n",
       "      <td>Self-emp-not-inc</td>\n",
       "      <td>Married-civ-spouse</td>\n",
       "      <td>Exec-managerial</td>\n",
       "      <td>4</td>\n",
       "      <td>Male</td>\n",
       "      <td>13</td>\n",
       "      <td>&lt;=50K</td>\n",
       "    </tr>\n",
       "    <tr>\n",
       "      <th>2</th>\n",
       "      <td>38</td>\n",
       "      <td>Private</td>\n",
       "      <td>Divorced</td>\n",
       "      <td>Handlers-cleaners</td>\n",
       "      <td>4</td>\n",
       "      <td>Male</td>\n",
       "      <td>40</td>\n",
       "      <td>&lt;=50K</td>\n",
       "    </tr>\n",
       "    <tr>\n",
       "      <th>3</th>\n",
       "      <td>53</td>\n",
       "      <td>Private</td>\n",
       "      <td>Married-civ-spouse</td>\n",
       "      <td>Handlers-cleaners</td>\n",
       "      <td>2</td>\n",
       "      <td>Male</td>\n",
       "      <td>40</td>\n",
       "      <td>&lt;=50K</td>\n",
       "    </tr>\n",
       "    <tr>\n",
       "      <th>4</th>\n",
       "      <td>28</td>\n",
       "      <td>Private</td>\n",
       "      <td>Married-civ-spouse</td>\n",
       "      <td>Prof-specialty</td>\n",
       "      <td>2</td>\n",
       "      <td>Female</td>\n",
       "      <td>40</td>\n",
       "      <td>&lt;=50K</td>\n",
       "    </tr>\n",
       "    <tr>\n",
       "      <th>...</th>\n",
       "      <td>...</td>\n",
       "      <td>...</td>\n",
       "      <td>...</td>\n",
       "      <td>...</td>\n",
       "      <td>...</td>\n",
       "      <td>...</td>\n",
       "      <td>...</td>\n",
       "      <td>...</td>\n",
       "    </tr>\n",
       "    <tr>\n",
       "      <th>20307</th>\n",
       "      <td>32</td>\n",
       "      <td>Private</td>\n",
       "      <td>Never-married</td>\n",
       "      <td>Tech-support</td>\n",
       "      <td>1</td>\n",
       "      <td>Male</td>\n",
       "      <td>11</td>\n",
       "      <td>&lt;=50K</td>\n",
       "    </tr>\n",
       "    <tr>\n",
       "      <th>20308</th>\n",
       "      <td>22</td>\n",
       "      <td>Private</td>\n",
       "      <td>Never-married</td>\n",
       "      <td>Protective-serv</td>\n",
       "      <td>4</td>\n",
       "      <td>Male</td>\n",
       "      <td>40</td>\n",
       "      <td>&lt;=50K</td>\n",
       "    </tr>\n",
       "    <tr>\n",
       "      <th>20309</th>\n",
       "      <td>27</td>\n",
       "      <td>Private</td>\n",
       "      <td>Married-civ-spouse</td>\n",
       "      <td>Tech-support</td>\n",
       "      <td>4</td>\n",
       "      <td>Female</td>\n",
       "      <td>38</td>\n",
       "      <td>&lt;=50K</td>\n",
       "    </tr>\n",
       "    <tr>\n",
       "      <th>20310</th>\n",
       "      <td>58</td>\n",
       "      <td>Private</td>\n",
       "      <td>Widowed</td>\n",
       "      <td>Adm-clerical</td>\n",
       "      <td>4</td>\n",
       "      <td>Female</td>\n",
       "      <td>40</td>\n",
       "      <td>&lt;=50K</td>\n",
       "    </tr>\n",
       "    <tr>\n",
       "      <th>20311</th>\n",
       "      <td>52</td>\n",
       "      <td>Self-emp-inc</td>\n",
       "      <td>Married-civ-spouse</td>\n",
       "      <td>Exec-managerial</td>\n",
       "      <td>4</td>\n",
       "      <td>Female</td>\n",
       "      <td>40</td>\n",
       "      <td>&gt;50K</td>\n",
       "    </tr>\n",
       "  </tbody>\n",
       "</table>\n",
       "<p>20312 rows × 8 columns</p>\n",
       "</div>"
      ],
      "text/plain": [
       "       age         workclass      marital-status         occupation  race  \\\n",
       "0       39         State-gov       Never-married       Adm-clerical     4   \n",
       "1       50  Self-emp-not-inc  Married-civ-spouse    Exec-managerial     4   \n",
       "2       38           Private            Divorced  Handlers-cleaners     4   \n",
       "3       53           Private  Married-civ-spouse  Handlers-cleaners     2   \n",
       "4       28           Private  Married-civ-spouse     Prof-specialty     2   \n",
       "...    ...               ...                 ...                ...   ...   \n",
       "20307   32           Private       Never-married       Tech-support     1   \n",
       "20308   22           Private       Never-married    Protective-serv     4   \n",
       "20309   27           Private  Married-civ-spouse       Tech-support     4   \n",
       "20310   58           Private             Widowed       Adm-clerical     4   \n",
       "20311   52      Self-emp-inc  Married-civ-spouse    Exec-managerial     4   \n",
       "\n",
       "          sex  hours-per-week salary  \n",
       "0        Male              40  <=50K  \n",
       "1        Male              13  <=50K  \n",
       "2        Male              40  <=50K  \n",
       "3        Male              40  <=50K  \n",
       "4      Female              40  <=50K  \n",
       "...       ...             ...    ...  \n",
       "20307    Male              11  <=50K  \n",
       "20308    Male              40  <=50K  \n",
       "20309  Female              38  <=50K  \n",
       "20310  Female              40  <=50K  \n",
       "20311  Female              40   >50K  \n",
       "\n",
       "[20312 rows x 8 columns]"
      ]
     },
     "execution_count": 30,
     "metadata": {},
     "output_type": "execute_result"
    }
   ],
   "source": [
    "df"
   ]
  },
  {
   "cell_type": "code",
   "execution_count": null,
   "id": "dc26c43a",
   "metadata": {},
   "outputs": [],
   "source": []
  }
 ],
 "metadata": {
  "kernelspec": {
   "display_name": "Python 3 (ipykernel)",
   "language": "python",
   "name": "python3"
  },
  "language_info": {
   "codemirror_mode": {
    "name": "ipython",
    "version": 3
   },
   "file_extension": ".py",
   "mimetype": "text/x-python",
   "name": "python",
   "nbconvert_exporter": "python",
   "pygments_lexer": "ipython3",
   "version": "3.8.13"
  }
 },
 "nbformat": 4,
 "nbformat_minor": 5
}
